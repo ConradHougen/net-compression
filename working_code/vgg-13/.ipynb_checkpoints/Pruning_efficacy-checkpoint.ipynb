{
 "cells": [
  {
   "cell_type": "code",
   "execution_count": 1,
   "metadata": {},
   "outputs": [],
   "source": [
    "# -*- coding: utf-8 -*-\n",
    "import torch\n",
    "import torchvision\n",
    "import torchvision.transforms as transforms\n",
    "import matplotlib.pyplot as plt\n",
    "from matplotlib.pyplot import figure\n",
    "import numpy as np\n",
    "import torch.optim as optim"
   ]
  },
  {
   "cell_type": "code",
   "execution_count": 2,
   "metadata": {},
   "outputs": [],
   "source": [
    "transform = transforms.Compose(\n",
    "    [transforms.ToTensor(),\n",
    "     transforms.Normalize((0.5, 0.5, 0.5), (0.5, 0.5, 0.5))])\n",
    "         #(0.4914, 0.4822, 0.4465), (0.2023, 0.1994, 0.2010))])\n",
    "\n",
    "trainset = torchvision.datasets.CIFAR100(root='./data', train=True,\n",
    "                                        download=False, transform=transform)\n",
    "trainloader = torch.utils.data.DataLoader(trainset, batch_size=128,\n",
    "                                          shuffle=False, num_workers=2)\n",
    "\n",
    "testset = torchvision.datasets.CIFAR100(root='./data', train=False,\n",
    "                                       download=False, transform=transform)\n",
    "testloader = torch.utils.data.DataLoader(testset, batch_size=128,\n",
    "                                         shuffle=False, num_workers=2)\n",
    "\n",
    "#classes = ('plane', 'car', 'bird', 'cat',\n",
    "#          'deer', 'dog', 'frog', 'horse', 'ship', 'truck')"
   ]
  },
  {
   "cell_type": "code",
   "execution_count": 3,
   "metadata": {},
   "outputs": [],
   "source": [
    "'''VGG11/13/16/19 in Pytorch.'''\n",
    "import torch\n",
    "import torch.nn as nn\n",
    "\n",
    "\n",
    "cfg = {\n",
    "    'VGG11': [32, 32, 'M', 64, 64, 'M', 128, 128, 'M'],\n",
    "    'VGG13': [64, 64, 'M', 128, 128, 'M', 256, 256, 'M', 512, 512, 'M', 512, 512, 'M'],\n",
    "    'VGG16': [64, 64, 'M', 128, 128, 'M', 256, 256, 256, 'M', 512, 512, 512, 'M', 512, 512, 512, 'M'],\n",
    "    'VGG19': [64, 64, 'M', 128, 128, 'M', 256, 256, 256, 256, 'M', 512, 512, 512, 512, 'M', 512, 512, 512, 512, 'M'],\n",
    "}\n",
    "\n",
    "\n",
    "class VGG(nn.Module):\n",
    "    def __init__(self, vgg_name):\n",
    "        super(VGG, self).__init__()\n",
    "        self.features = self._make_layers(cfg[vgg_name])\n",
    "#         if(cfg[vgg_name] == 'VGG13_p'):\n",
    "#             self.classifier = nn.Linear(256, 100)\n",
    "#         else:\n",
    "        self.classifier = nn.Linear(512, 100)\n",
    "\n",
    "    def forward(self, x):\n",
    "        out = self.features(x)\n",
    "        out = out.view(out.size(0), -1)\n",
    "        out = self.classifier(out)\n",
    "        return out\n",
    "\n",
    "    def _make_layers(self, cfg):\n",
    "        layers = []\n",
    "        in_channels = 3\n",
    "        for x in cfg:\n",
    "            if x == 'M':\n",
    "                layers += [nn.MaxPool2d(kernel_size=2, stride=2)]\n",
    "            else:\n",
    "                layers += [nn.Conv2d(in_channels, x, kernel_size=3, padding=1),\n",
    "                           nn.ReLU(inplace=True),\n",
    "                           nn.BatchNorm2d(x)]\n",
    "                in_channels = x\n",
    "        #layers += [nn.AvgPool2d(kernel_size=1, stride=1)]\n",
    "        return nn.Sequential(*layers)\n",
    "\n",
    "\n",
    "def test():\n",
    "    net = VGG('VGG11')\n",
    "    x = torch.randn(2,3,32,32)\n",
    "    y = net(x)\n",
    "    print(y.size())"
   ]
  },
  {
   "cell_type": "code",
   "execution_count": 4,
   "metadata": {},
   "outputs": [],
   "source": [
    "class VGG_p(nn.Module):\n",
    "    def __init__(self, vgg_name, cfg):\n",
    "        super(VGG_p, self).__init__()\n",
    "        self.features = self._make_layers(cfg)\n",
    "        self.classifier = nn.Linear(cfg[-2], 100)\n",
    "\n",
    "    def forward(self, x):\n",
    "        out = self.features(x)\n",
    "        out = out.view(out.size(0), -1)\n",
    "        out = self.classifier(out)\n",
    "        return out\n",
    "\n",
    "    def _make_layers(self, cfg):\n",
    "        layers = []\n",
    "        in_channels = 3\n",
    "        for x in cfg:\n",
    "            if x == 'M':\n",
    "                layers += [nn.MaxPool2d(kernel_size=2, stride=2)]\n",
    "            else:\n",
    "                layers += [nn.Conv2d(in_channels, x, kernel_size=3, padding=1),\n",
    "                           nn.ReLU(inplace=True),\n",
    "                           nn.BatchNorm2d(x)]\n",
    "                in_channels = x\n",
    "        #layers += [nn.AvgPool2d(kernel_size=1, stride=1)]\n",
    "        return nn.Sequential(*layers)\n",
    "\n",
    "\n",
    "def test():\n",
    "    net = VGG('VGG11')\n",
    "    x = torch.randn(2,3,32,32)\n",
    "    y = net(x)\n",
    "    print(y.size())"
   ]
  },
  {
   "cell_type": "code",
   "execution_count": 5,
   "metadata": {},
   "outputs": [
    {
     "name": "stdout",
     "output_type": "stream",
     "text": [
      "cuda:0\n"
     ]
    }
   ],
   "source": [
    "device = torch.device(\"cuda:0\" if torch.cuda.is_available() else \"cpu\")\n",
    "print(device)"
   ]
  },
  {
   "cell_type": "code",
   "execution_count": 11,
   "metadata": {},
   "outputs": [],
   "source": [
    "net_corr = VGG('VGG13').to(device)\n",
    "net_decorr = VGG('VGG13').to(device)\n",
    "criterion = nn.CrossEntropyLoss()"
   ]
  },
  {
   "cell_type": "code",
   "execution_count": 52,
   "metadata": {},
   "outputs": [
    {
     "data": {
      "text/plain": [
       "<All keys matched successfully>"
      ]
     },
     "execution_count": 52,
     "metadata": {},
     "output_type": "execute_result"
    }
   ],
   "source": [
    "PATH_corr = './cifar100_net.pth'\n",
    "PATH_decorr = './w_decorr/wnet_eye_2.pth'\n",
    "\n",
    "net_corr.load_state_dict(torch.load(PATH_corr))\n",
    "net_decorr.load_state_dict(torch.load(PATH_decorr))"
   ]
  },
  {
   "cell_type": "code",
   "execution_count": 41,
   "metadata": {},
   "outputs": [],
   "source": [
    "def cal_acc(net_acc):\n",
    "    correct = 0\n",
    "    total = 0\n",
    "    with torch.no_grad():\n",
    "        for data in testloader:\n",
    "            images, labels = data[0].to(device), data[1].to(device)\n",
    "            outputs = net_acc(images)\n",
    "            _, predicted = torch.max(outputs.data, 1)\n",
    "            total += labels.size(0)\n",
    "            correct += (predicted == labels).sum().item()\n",
    "    \n",
    "    return (100 * correct / total)"
   ]
  },
  {
   "cell_type": "code",
   "execution_count": 8,
   "metadata": {},
   "outputs": [],
   "source": [
    "def cal_importance(net, l_index):\n",
    "    bias_base = net.features[l_index].bias.data.clone().detach()\n",
    "    av_corrval = 0\n",
    "\n",
    "    running_loss = 0.0\n",
    "    imp_corr_bn = torch.zeros(bias_base.shape[0]).to(device)\n",
    "\n",
    "    for i, data in enumerate(trainloader, 0):\n",
    "        inputs, labels = data[0].to(device), data[1].to(device)\n",
    "        optimizer.zero_grad()\n",
    "        outputs = net(inputs)\n",
    "        loss = criterion(outputs, labels)\n",
    "        loss.backward()\n",
    "\n",
    "        imp_corr_bn += (((net.features[l_index].weight.grad)*(net.features[l_index].weight.data)) + ((net.features[l_index].bias.grad)*(net.features[l_index].bias.data))).abs().pow(2)\n",
    "\n",
    "    imp_norm = imp_corr_bn/imp_corr_bn.max()\n",
    "    \n",
    "    neuron_order = torch.sort(imp_norm)[1]\n",
    "    \n",
    "    return neuron_order"
   ]
  },
  {
   "cell_type": "code",
   "execution_count": 9,
   "metadata": {},
   "outputs": [],
   "source": [
    "import time"
   ]
  },
  {
   "cell_type": "code",
   "execution_count": 10,
   "metadata": {},
   "outputs": [],
   "source": [
    "def cal_time(net_acc):\n",
    "    correct = 0\n",
    "    total = 0\n",
    "    \n",
    "    with torch.no_grad():\n",
    "        t_s = time.time()\n",
    "        for data in testloader:\n",
    "            images, labels = data[0].to(device), data[1].to(device)\n",
    "            outputs = net_acc(images)\n",
    "            _, predicted = torch.max(outputs.data, 1)\n",
    "            total += labels.size(0)\n",
    "            correct += (predicted == labels).sum().item()\n",
    "        t_end = time.time() - t_s\n",
    "    return (t_end / 10000)"
   ]
  },
  {
   "cell_type": "markdown",
   "metadata": {},
   "source": [
    "### Ground importance"
   ]
  },
  {
   "cell_type": "code",
   "execution_count": 12,
   "metadata": {},
   "outputs": [],
   "source": [
    "loss_base_corr = 0\n",
    "num_stop = 0\n",
    "\n",
    "for epoch in range(1):\n",
    "    for i, data in enumerate(trainloader, 0):\n",
    "        inputs, labels = data[0].to(device), data[1].to(device)\n",
    "        outputs = net_corr(inputs)\n",
    "        loss = criterion(outputs, labels)\n",
    "        loss_base_corr += loss.item()\n",
    "        num_stop += labels.shape[0]\n",
    "        if(num_stop > 5000):\n",
    "            break"
   ]
  },
  {
   "cell_type": "code",
   "execution_count": null,
   "metadata": {},
   "outputs": [],
   "source": [
    "imp_order_ground = {}\n",
    "for l_index in [2, 5, 9, 12, 16, 19, 23, 26, 30, 33]:\n",
    "    loss_mat = torch.load(\"./w_decorr/loss_corr_bn_train_\"+str(l_index)+\".pt\")\n",
    "    imp_order_ground.update({l_index: ((loss_mat - loss_base_corr).abs().sort()[1])})#.sort()[0]})"
   ]
  },
  {
   "cell_type": "code",
   "execution_count": null,
   "metadata": {},
   "outputs": [],
   "source": [
    "loss_base_decorr = 0\n",
    "num_stop = 0\n",
    "\n",
    "for epoch in range(1):\n",
    "    for i, data in enumerate(trainloader, 0):\n",
    "        inputs, labels = data[0].to(device), data[1].to(device)\n",
    "        outputs = net_decorr(inputs)\n",
    "        loss = criterion(outputs, labels)\n",
    "        loss_base_decorr += loss.item()\n",
    "        num_stop += labels.shape[0]\n",
    "        if(num_stop > 5000):\n",
    "            break"
   ]
  },
  {
   "cell_type": "code",
   "execution_count": null,
   "metadata": {},
   "outputs": [],
   "source": [
    "imp_order_ground_decorr = {}\n",
    "for l_index in [2, 5, 9, 12, 16, 19, 23, 26, 30, 33]:\n",
    "    loss_mat = torch.load(\"./w_decorr/loss_bn_train_\"+str(l_index)+\".pt\")\n",
    "    imp_order_ground_decorr.update({l_index: ((loss_mat - loss_base_decorr).abs().sort()[1])})#.sort()[0]})"
   ]
  },
  {
   "cell_type": "markdown",
   "metadata": {},
   "source": [
    "### TFO importance"
   ]
  },
  {
   "cell_type": "code",
   "execution_count": 13,
   "metadata": {},
   "outputs": [],
   "source": [
    "import pickle"
   ]
  },
  {
   "cell_type": "code",
   "execution_count": 14,
   "metadata": {},
   "outputs": [],
   "source": [
    "with open(\"./w_decorr/corr/tfo_corr.pkl\", 'rb') as f:\n",
    "    imp_order_tfo = pickle.load(f)"
   ]
  },
  {
   "cell_type": "code",
   "execution_count": null,
   "metadata": {},
   "outputs": [],
   "source": [
    "optimizer = optim.SGD(net_corr.parameters(), lr=0, weight_decay=0)\n",
    "imp_order_tfo = {}\n",
    "for l_index in [2, 5, 9, 12, 16, 19, 23, 26, 30, 33]:\n",
    "    print(l_index)\n",
    "    imp_order_tfo.update({l_index: cal_importance(net_corr, l_index)})"
   ]
  },
  {
   "cell_type": "code",
   "execution_count": 15,
   "metadata": {},
   "outputs": [],
   "source": [
    "with open(\"./w_decorr/decorr/tfo_decorr_eye_2.pkl\", 'rb') as f:\n",
    "    imp_order_tfo_decorr = pickle.load(f)"
   ]
  },
  {
   "cell_type": "code",
   "execution_count": null,
   "metadata": {},
   "outputs": [],
   "source": [
    "optimizer = optim.SGD(net_decorr.parameters(), lr=0, weight_decay=0)\n",
    "imp_order_tfo_decorr = {}\n",
    "for l_index in [2, 5, 9, 12, 16, 19, 23, 26, 30, 33]:\n",
    "    print(l_index)\n",
    "    imp_order_tfo_decorr.update({l_index: cal_importance(net_decorr, l_index)})"
   ]
  },
  {
   "cell_type": "code",
   "execution_count": null,
   "metadata": {},
   "outputs": [],
   "source": [
    "with open(\"./w_decorr/decorr/tfo_decorr_eye_2.pkl\", 'wb') as f:\n",
    "    pickle.dump(imp_order_tfo_decorr, f)"
   ]
  },
  {
   "cell_type": "markdown",
   "metadata": {},
   "source": [
    "### Net-slim importance"
   ]
  },
  {
   "cell_type": "code",
   "execution_count": 16,
   "metadata": {},
   "outputs": [],
   "source": [
    "imp_order_slim = {}\n",
    "for l_index in [2, 5, 9, 12, 16, 19, 23, 26, 30, 33]:\n",
    "    slim_mat = net_corr.features[l_index].weight.data.clone()\n",
    "    imp_order_slim.update({l_index: ((slim_mat).abs().sort()[1])})"
   ]
  },
  {
   "cell_type": "code",
   "execution_count": 17,
   "metadata": {},
   "outputs": [],
   "source": [
    "imp_order_slim_decorr = {}\n",
    "for l_index in [2, 5, 9, 12, 16, 19, 23, 26, 30, 33]:\n",
    "    slim_mat = net_decorr.features[l_index].weight.data.clone()\n",
    "    imp_order_slim_decorr.update({l_index: ((slim_mat).abs().sort()[1])})"
   ]
  },
  {
   "cell_type": "markdown",
   "metadata": {},
   "source": [
    "### L2 importance"
   ]
  },
  {
   "cell_type": "code",
   "execution_count": 18,
   "metadata": {},
   "outputs": [],
   "source": [
    "imp_order_l2 = {}\n",
    "for l_index in [2, 5, 9, 12, 16, 19, 23, 26, 30, 33]:\n",
    "    l2_mat = (net_corr.features[l_index-2].weight.data.clone()).pow(2).sum(dim=(1,2,3))\n",
    "    imp_order_l2.update({l_index: ((l2_mat).abs().sort()[1])})"
   ]
  },
  {
   "cell_type": "code",
   "execution_count": 19,
   "metadata": {},
   "outputs": [],
   "source": [
    "imp_order_l2_decorr = {}\n",
    "for l_index in [2, 5, 9, 12, 16, 19, 23, 26, 30, 33]:\n",
    "    l2_mat = (net_decorr.features[l_index-2].weight.data.clone()).pow(2).sum(dim=(1,2,3))\n",
    "    imp_order_l2_decorr.update({l_index: ((l2_mat).abs().sort()[1])})"
   ]
  },
  {
   "cell_type": "markdown",
   "metadata": {},
   "source": [
    "### Random importance"
   ]
  },
  {
   "cell_type": "code",
   "execution_count": 20,
   "metadata": {},
   "outputs": [],
   "source": [
    "imp_order_rand = {}\n",
    "for l_index in [2, 5, 9, 12, 16, 19, 23, 26, 30, 33]:\n",
    "    rand_mat = torch.tensor((np.random.randint(0,net_corr.features[l_index].bias.shape[0],net_corr.features[l_index].bias.shape[0])))\n",
    "    imp_order_rand.update({l_index: ((rand_mat).sort()[1])})"
   ]
  },
  {
   "cell_type": "code",
   "execution_count": 21,
   "metadata": {},
   "outputs": [],
   "source": [
    "imp_order_rand_decorr = {}\n",
    "for l_index in [2, 5, 9, 12, 16, 19, 23, 26, 30, 33]:\n",
    "    rand_mat = torch.tensor((np.random.randint(0,net_decorr.features[l_index].bias.shape[0],net_decorr.features[l_index].bias.shape[0])))\n",
    "    imp_order_rand_decorr.update({l_index: ((rand_mat).sort()[1])})"
   ]
  },
  {
   "cell_type": "markdown",
   "metadata": {},
   "source": [
    "### Compute based importance"
   ]
  },
  {
   "cell_type": "code",
   "execution_count": 24,
   "metadata": {},
   "outputs": [],
   "source": [
    "l_imp = []\n",
    "\n",
    "for layer_index in [3, 6, 10, 13, 17, 20, 24, 27, 31, 34]:\n",
    "    \n",
    "    _, _, w_in, h_in = net_corr.features[0:layer_index](torch.zeros(1,3,32,32).to(device)).shape\n",
    "    \n",
    "    c_out, c_in, w_f, h_f = net_corr.features[layer_index-3].weight.shape\n",
    "    \n",
    "    l_imp.append((c_in*w_f*h_f)*(w_in*h_in)*c_out*(c_out*(c_in*w_f*h_f))**(1/5))\n",
    "    \n",
    "l_imp = np.array(l_imp)\n",
    "l_imp = l_imp/l_imp.sum()"
   ]
  },
  {
   "cell_type": "code",
   "execution_count": 25,
   "metadata": {},
   "outputs": [
    {
     "data": {
      "text/plain": [
       "array([0.00257669, 0.10137537, 0.05822486, 0.1337656 , 0.07682816,\n",
       "       0.17650477, 0.10137537, 0.23289944, 0.05822486, 0.05822486])"
      ]
     },
     "execution_count": 25,
     "metadata": {},
     "output_type": "execute_result"
    }
   ],
   "source": [
    "l_imp"
   ]
  },
  {
   "cell_type": "markdown",
   "metadata": {},
   "source": [
    "### Pruning"
   ]
  },
  {
   "cell_type": "code",
   "execution_count": 162,
   "metadata": {},
   "outputs": [],
   "source": [
    "def cfg_p(prune_ratio, orig_size, save_cfg_corr=0, save_cfg=0):\n",
    "    cfg_list = []\n",
    "\n",
    "    for i in range(4):\n",
    "        cfg_list.append(int(orig_size[2*i]*(1-prune_ratio[2*i])))\n",
    "        cfg_list.append(int(orig_size[2*i+1]*(1-prune_ratio[2*i+1])))\n",
    "        cfg_list.append('M')\n",
    "\n",
    "    cfg_list.append(int(orig_size[8]*(1-prune_ratio[8])))\n",
    "    cfg_list.append(int(orig_size[9]*(1-prune_ratio[9])))\n",
    "    cfg_list.append('M')\n",
    "    \n",
    "    if(save_cfg == 1):\n",
    "        with open(\"./w_decorr/pruned_nets/corr/net_p_corr_iter\"+str(prune_iter)+\".pkl\", 'wb') as f:\n",
    "            pickle.dump(cfg_list, f)\n",
    "\n",
    "    elif(save_cfg == 2):\n",
    "        with open(\"./w_decorr/pruned_nets/decorr/net_p_decorr_iter\"+str(prune_iter)+\".pkl\", 'wb') as f:\n",
    "            pickle.dump(cfg_list, f)\n",
    "    \n",
    "    return cfg_list"
   ]
  },
  {
   "cell_type": "code",
   "execution_count": 157,
   "metadata": {},
   "outputs": [],
   "source": [
    "def pruner(net, imp_order, prune_ratio, orig_size, net_type=0):\n",
    "    \n",
    "    if(net_type==1):\n",
    "        cfg = cfg_p(prune_ratio, orig_size, save_cfg=1)\n",
    "    elif(net_type==2):\n",
    "        cfg = cfg_p(prune_ratio, orig_size, save_cfg=2)\n",
    "    else:\n",
    "        cfg = cfg_p(prune_ratio, orig_size)        \n",
    "    \n",
    "    net_pruned = VGG_p('VGG13_p', cfg).to(device)\n",
    "    bn = [2, 5, 9, 12, 16, 19, 23, 26, 30, 33]\n",
    "        \n",
    "    for l in range(len(bn)):\n",
    "        if(l == 0):\n",
    "            n_c = int(imp_order[bn[l]].shape[0]*prune_ratio[l])\n",
    "            order_c = (imp_order[bn[l]][n_c:]).sort()[0]\n",
    "            \n",
    "            net_pruned.features[bn[l]-2].weight.data = net.features[bn[l]-2].weight[order_c].data.detach().clone()\n",
    "            net_pruned.features[bn[l]-2].bias.data = net.features[bn[l]-2].bias[order_c].data.detach().clone()\n",
    "\n",
    "            net_pruned.features[bn[l]].weight.data = net.features[bn[l]].weight[order_c].data.detach().clone()\n",
    "            net_pruned.features[bn[l]].bias.data = net.features[bn[l]].bias[order_c].data.detach().clone()    \n",
    "            net_pruned.features[bn[l]].running_var.data = net.features[bn[l]].running_var[order_c].detach().clone()\n",
    "            net_pruned.features[bn[l]].running_mean.data = net.features[bn[l]].running_mean[order_c].detach().clone()    \n",
    "            continue\n",
    "        \n",
    "        n_p = int(imp_order[bn[l-1]].shape[0]*prune_ratio[l-1])\n",
    "        n_c = int(imp_order[bn[l]].shape[0]*prune_ratio[l])\n",
    "\n",
    "        order_p = (imp_order[bn[l-1]][n_p:]).sort()[0]\n",
    "        order_c = (imp_order[bn[l]][n_c:]).sort()[0]\n",
    "        \n",
    "        net_pruned.features[bn[l]-2].weight.data = net.features[bn[l]-2].weight[order_c][:,order_p].detach().clone()\n",
    "        net_pruned.features[bn[l]-2].bias.data = net.features[bn[l]-2].bias[order_c].detach().clone()\n",
    "\n",
    "        net_pruned.features[bn[l]].weight.data = net.features[bn[l]].weight[order_c].detach().clone()\n",
    "        net_pruned.features[bn[l]].bias.data = net.features[bn[l]].bias[order_c].detach().clone()    \n",
    "        net_pruned.features[bn[l]].running_var.data = net.features[bn[l]].running_var[order_c].detach().clone()\n",
    "        net_pruned.features[bn[l]].running_mean.data = net.features[bn[l]].running_mean[order_c].detach().clone()    \n",
    "    \n",
    "    n_33 = int(imp_order[33].shape[0]*prune_ratio[-1])\n",
    "    order_33 = (imp_order[33][n_33:]).sort()[0]\n",
    "\n",
    "    net_pruned.classifier.weight.data = net.classifier.weight[:,order_33].detach().clone()\n",
    "    net_pruned.classifier.bias.data = net.classifier.bias.detach().clone()\n",
    "    \n",
    "    return net_pruned"
   ]
  },
  {
   "cell_type": "markdown",
   "metadata": {},
   "source": [
    "### Prune and check accuracy"
   ]
  },
  {
   "cell_type": "code",
   "execution_count": 70,
   "metadata": {},
   "outputs": [],
   "source": [
    "# def prune_accs(net, order_ground, order_tfo, order_slim, order_l2, order_rand): \n",
    "def prune_accs(net, order_tfo, order_slim, order_l2, order_rand, PATH):\n",
    "    net.load_state_dict(torch.load(PATH))\n",
    "#     plot_ground = []\n",
    "    plot_tfo = []\n",
    "    plot_slim = []\n",
    "    plot_l2 = []\n",
    "    plot_rand = []\n",
    "    ratio = []\n",
    "    \n",
    "    for coeff in (np.linspace(0,8/2,5)):    \n",
    "        orig_size = np.array([net.features[0].weight.shape[0], net.features[3].weight.shape[0], net.features[7].weight.shape[0], net.features[10].weight.shape[0], net.features[14].weight.shape[0], net.features[17].weight.shape[0], net.features[21].weight.shape[0], net.features[24].weight.shape[0], net.features[28].weight.shape[0], net.features[31].weight.shape[0]])\n",
    "        s = orig_size.sum()\n",
    "        prune_ratio = coeff*l_imp\n",
    "        print(\"Prune ratios: \", (prune_ratio*orig_size).sum()/s)\n",
    "        \n",
    "#         net_ground = pruner(net, order_ground, prune_ratio, orig_size)\n",
    "        net_tfo = pruner(net, order_tfo, prune_ratio, orig_size)\n",
    "        net_slim = pruner(net, order_slim, prune_ratio, orig_size)\n",
    "        net_l2 = pruner(net, order_l2, prune_ratio, orig_size)\n",
    "        net_rand = pruner(net, order_rand, prune_ratio, orig_size)\n",
    "        \n",
    "        print(\"Compute time reduction: \", 1 - cal_time(net_tfo)/cal_time(net_decorr))\n",
    "        \n",
    "#         plot_ground.append(cal_acc(net_ground.eval()))\n",
    "        plot_tfo.append(cal_acc(net_tfo.eval()))\n",
    "        plot_slim.append(cal_acc(net_slim.eval()))\n",
    "        plot_l2.append(cal_acc(net_l2.eval()))\n",
    "        plot_rand.append(cal_acc(net_rand.eval()))\n",
    "        ratio.append((prune_ratio*np.array([64, 64, 128, 128, 256, 256, 512, 512, 512, 512])).sum()/s)\n",
    "#     return plot_ground, plot_tfo, plot_slim, plot_l2, plot_rand, ratio\n",
    "    return plot_tfo, plot_slim, plot_l2, plot_rand, ratio"
   ]
  },
  {
   "cell_type": "markdown",
   "metadata": {},
   "source": [
    "### Prune vs. accuracy plots"
   ]
  },
  {
   "cell_type": "code",
   "execution_count": 65,
   "metadata": {},
   "outputs": [],
   "source": [
    "# plot_ground, plot_tfo, plot_slim, plot_l2, plot_rand, xmarks = prune_accs(net_corr, imp_order_ground, imp_order_tfo, imp_order_slim, imp_order_l2, imp_order_rand, PATH_corr) \n",
    "plot_tfo, plot_slim, plot_l2, plot_rand, xmarks = prune_accs(net_corr, imp_order_tfo, imp_order_slim, imp_order_l2, imp_order_rand, PATH_corr) \n",
    "xmarks = np.floor(np.array(xmarks)*100)"
   ]
  },
  {
   "cell_type": "code",
   "execution_count": 66,
   "metadata": {
    "scrolled": true
   },
   "outputs": [
    {
     "data": {
      "text/plain": [
       "Text(0, 0.5, 'Accuracy')"
      ]
     },
     "execution_count": 66,
     "metadata": {},
     "output_type": "execute_result"
    },
    {
     "data": {
      "image/png": "[encoded data removed]",
      "text/plain": [
       "<Figure size 1080x504 with 1 Axes>"
      ]
     },
     "metadata": {
      "needs_background": "light"
     },
     "output_type": "display_data"
    }
   ],
   "source": [
    "figure(figsize=(15,7))\n",
    "# plt.plot(xmarks, plot_ground, label=\"Ground\")\n",
    "plt.plot(xmarks, plot_tfo, label=\"Taylor FO\")\n",
    "plt.plot(xmarks, plot_slim, label=\"Net-Slim\")\n",
    "plt.plot(xmarks, plot_l2, label=\"L2 Norm\")\n",
    "plt.plot(xmarks, plot_rand, label=\"Random\")\n",
    "plt.legend()\n",
    "plt.xlabel(\"Percent pruned\")\n",
    "plt.ylabel(\"Accuracy\")\n",
    "# plt.savefig(\"correlated net.png\")"
   ]
  },
  {
   "cell_type": "code",
   "execution_count": 67,
   "metadata": {},
   "outputs": [],
   "source": [
    "# plot_ground_decorr, plot_tfo_decorr, plot_slim_decorr, plot_l2_decorr, plot_rand_decorr, xmarks_decorr = prune_accs(net_decorr, imp_order_ground_decorr, imp_order_tfo_decorr, imp_order_slim_decorr, imp_order_l2_decorr, imp_order_rand_decorr, PATH_decorr) \n",
    "plot_tfo_decorr, plot_slim_decorr, plot_l2_decorr, plot_rand_decorr, xmarks_decorr = prune_accs(net_decorr, imp_order_tfo_decorr, imp_order_slim_decorr, imp_order_l2_decorr, imp_order_rand_decorr, PATH_decorr) \n",
    "xmarks_decorr = np.floor(np.array(xmarks_decorr)*100)"
   ]
  },
  {
   "cell_type": "code",
   "execution_count": 68,
   "metadata": {
    "scrolled": false
   },
   "outputs": [
    {
     "data": {
      "text/plain": [
       "Text(0, 0.5, 'Accuracy')"
      ]
     },
     "execution_count": 68,
     "metadata": {},
     "output_type": "execute_result"
    },
    {
     "data": {
      "image/png": "[encoded data removed]",
      "text/plain": [
       "<Figure size 1080x504 with 1 Axes>"
      ]
     },
     "metadata": {
      "needs_background": "light"
     },
     "output_type": "display_data"
    }
   ],
   "source": [
    "figure(figsize=(15,7))\n",
    "# plt.plot(xmarks_decorr, plot_ground_decorr, label=\"Ground\")\n",
    "plt.plot(xmarks_decorr, plot_tfo_decorr, label=\"Taylor FO\")\n",
    "plt.plot(xmarks_decorr, plot_slim_decorr, label=\"Net-Slim\")\n",
    "plt.plot(xmarks_decorr, plot_l2_decorr, label=\"L2 Norm\")\n",
    "plt.plot(xmarks_decorr, plot_rand_decorr, label=\"Random\")\n",
    "plt.legend()\n",
    "plt.xlabel(\"Percent pruned\")\n",
    "plt.ylabel(\"Accuracy\")\n",
    "# plt.savefig(\"decorrelated net.png\")"
   ]
  },
  {
   "cell_type": "code",
   "execution_count": 69,
   "metadata": {},
   "outputs": [
    {
     "data": {
      "text/plain": [
       "[<matplotlib.lines.Line2D at 0x7f3087cd8748>]"
      ]
     },
     "execution_count": 69,
     "metadata": {},
     "output_type": "execute_result"
    },
    {
     "data": {
      "image/png": "[encoded data removed]",
      "text/plain": [
       "<Figure size 432x288 with 1 Axes>"
      ]
     },
     "metadata": {
      "needs_background": "light"
     },
     "output_type": "display_data"
    }
   ],
   "source": [
    "plt.plot(xmarks_decorr, plot_tfo, label=\"Taylor FO\")\n",
    "plt.plot(xmarks_decorr, plot_tfo_decorr, label=\"Taylor FO\")"
   ]
  },
  {
   "cell_type": "code",
   "execution_count": 73,
   "metadata": {},
   "outputs": [
    {
     "data": {
      "text/plain": [
       "([60.52, 60.02, 56.13, 44.4, 13.02], [60.38, 60.19, 56.08, 39.37, 7.4])"
      ]
     },
     "execution_count": 73,
     "metadata": {},
     "output_type": "execute_result"
    }
   ],
   "source": [
    "plot_tfo, plot_tfo_decorr"
   ]
  }
 ],
 "metadata": {
  "@webio": {
   "lastCommId": null,
   "lastKernelId": null
  },
  "kernelspec": {
   "display_name": "Python 3",
   "language": "python",
   "name": "python3"
  },
  "language_info": {
   "codemirror_mode": {
    "name": "ipython",
    "version": 3
   },
   "file_extension": ".py",
   "mimetype": "text/x-python",
   "name": "python",
   "nbconvert_exporter": "python",
   "pygments_lexer": "ipython3",
   "version": "3.6.9"
  }
 },
 "nbformat": 4,
 "nbformat_minor": 2
}
