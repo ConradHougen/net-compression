{
 "cells": [
  {
   "cell_type": "code",
   "execution_count": 1,
   "metadata": {},
   "outputs": [],
   "source": [
    "# -*- coding: utf-8 -*-\n",
    "import torch\n",
    "import torchvision\n",
    "import torchvision.transforms as transforms\n",
    "import matplotlib.pyplot as plt\n",
    "import numpy as np"
   ]
  },
  {
   "cell_type": "code",
   "execution_count": 2,
   "metadata": {},
   "outputs": [
    {
     "name": "stdout",
     "output_type": "stream",
     "text": [
      "Files already downloaded and verified\n",
      "Files already downloaded and verified\n"
     ]
    }
   ],
   "source": [
    "# Downloads train/test data and performs normalization\n",
    "\n",
    "transform = transforms.Compose(\n",
    "    [transforms.ToTensor(),\n",
    "     transforms.Normalize((0.5, 0.5, 0.5), (0.5, 0.5, 0.5))])\n",
    "         #(0.4914, 0.4822, 0.4465), (0.2023, 0.1994, 0.2010))])\n",
    "\n",
    "trainset = torchvision.datasets.CIFAR100(root='./data', train=True,\n",
    "                                        download=True, transform=transform)\n",
    "trainloader = torch.utils.data.DataLoader(trainset, batch_size=10000,\n",
    "                                          shuffle=True, num_workers=2)\n",
    "\n",
    "testset = torchvision.datasets.CIFAR100(root='./data', train=False,\n",
    "                                       download=True, transform=transform)\n",
    "testloader = torch.utils.data.DataLoader(testset, batch_size=10000,\n",
    "                                         shuffle=False, num_workers=2)\n",
    "\n",
    "# classes = ('plane', 'car', 'bird', 'cat',\n",
    "#            'deer', 'dog', 'frog', 'horse', 'ship', 'truck')"
   ]
  },
  {
   "cell_type": "code",
   "execution_count": 3,
   "metadata": {},
   "outputs": [],
   "source": [
    "'''VGG11/13/16/19 in Pytorch.'''\n",
    "import torch\n",
    "import torch.nn as nn\n",
    "\n",
    "\n",
    "cfg = {\n",
    "    'VGG11': [32, 32, 'M', 'D2', 64, 64, 'M', 'D3', 128, 128, 'M', 'D4'],\n",
    "    'VGG13': [32, 32, 'M', 64, 64, 'M', 128, 128, 'M', 256, 256, 'M'],\n",
    "    'VGG16': [64, 64, 'M', 128, 128, 'M', 256, 256, 256, 'M', 512, 512, 512, 'M', 512, 512, 512, 'M'],\n",
    "    'VGG19': [64, 64, 'M', 128, 128, 'M', 256, 256, 256, 256, 'M', 512, 512, 512, 512, 'M', 512, 512, 512, 512, 'M'],\n",
    "}\n",
    "\n",
    "\n",
    "class VGG(nn.Module):\n",
    "    def __init__(self, vgg_name):\n",
    "        super(VGG, self).__init__()\n",
    "        self.features = self._make_layers(cfg[vgg_name])\n",
    "        self.classifier = nn.Linear(1024, 100)\n",
    "\n",
    "    def forward(self, x):\n",
    "        out = self.features(x)\n",
    "        out = out.view(out.size(0), -1)\n",
    "        out = self.classifier(out)\n",
    "        return out\n",
    "\n",
    "    def _make_layers(self, cfg):\n",
    "        layers = []\n",
    "        in_channels = 3\n",
    "        for x in cfg:\n",
    "            if x == 'M':\n",
    "                layers += [nn.MaxPool2d(kernel_size=2, stride=2)]\n",
    "            elif x == 'D2':\n",
    "                layers += [nn.Dropout(p=0.2)]\n",
    "            elif x == 'D3':\n",
    "                layers += [nn.Dropout(p=0.3)]\n",
    "            elif x == 'D4':\n",
    "                layers += [nn.Dropout(p=0.4)]\n",
    "            else:\n",
    "                layers += [nn.Conv2d(in_channels, x, kernel_size=3, padding=1),\n",
    "                           nn.ReLU(inplace=True),\n",
    "                           nn.BatchNorm2d(x)]\n",
    "                in_channels = x\n",
    "        #layers += [nn.AvgPool2d(kernel_size=1, stride=1)]\n",
    "        return nn.Sequential(*layers)\n",
    "\n",
    "\n",
    "def test():\n",
    "    net = VGG('VGG13')\n",
    "    x = torch.randn(2,3,32,32)\n",
    "    y = net.features(x)\n",
    "    print(y.size())"
   ]
  },
  {
   "cell_type": "code",
   "execution_count": 4,
   "metadata": {},
   "outputs": [
    {
     "name": "stdout",
     "output_type": "stream",
     "text": [
      "cuda:0\n"
     ]
    }
   ],
   "source": [
    "# Determine whether gpu is available\n",
    "device = torch.device(\"cuda:0\" if torch.cuda.is_available() else \"cpu\")\n",
    "print(device)"
   ]
  },
  {
   "cell_type": "code",
   "execution_count": 5,
   "metadata": {},
   "outputs": [
    {
     "data": {
      "text/plain": [
       "<All keys matched successfully>"
      ]
     },
     "execution_count": 5,
     "metadata": {},
     "output_type": "execute_result"
    }
   ],
   "source": [
    "# Load pre-trained network\n",
    "PATH = './cifar100_net.pth'\n",
    "net = VGG('VGG13').to(device)\n",
    "net.load_state_dict(torch.load(PATH))"
   ]
  },
  {
   "cell_type": "code",
   "execution_count": 6,
   "metadata": {},
   "outputs": [],
   "source": [
    "net = net.eval()"
   ]
  },
  {
   "cell_type": "code",
   "execution_count": 10,
   "metadata": {},
   "outputs": [],
   "source": [
    "# Compute features (referred by variable named 'output') before the classification layer \n",
    "# on test data using pretrained network\n",
    "\n",
    "with torch.no_grad():\n",
    "    for data in testloader:\n",
    "        images, labels = data[0].to(device), data[1].to(device)\n",
    "        outputs = net.features(images)\n",
    "        break\n",
    "    del images\n",
    "    torch.cuda.empty_cache()"
   ]
  },
  {
   "cell_type": "code",
   "execution_count": 11,
   "metadata": {},
   "outputs": [],
   "source": [
    "# Reshape outputs (i.e., features) to form a matrix\n",
    "\n",
    "outputs = outputs[0:10000,:,:,:].reshape((10000,256*2*2))"
   ]
  },
  {
   "cell_type": "code",
   "execution_count": 12,
   "metadata": {},
   "outputs": [],
   "source": [
    "# Feature matrix's SVD\n",
    "\n",
    "U, s, V = np.linalg.svd(outputs[0:10000,:].cpu(), full_matrices=False, compute_uv=True, hermitian=False)"
   ]
  },
  {
   "cell_type": "code",
   "execution_count": 13,
   "metadata": {},
   "outputs": [],
   "source": [
    "# OptShrink for large size matrix\n",
    "\n",
    "def optshrink(U, s, V, r):\n",
    "    M,N = U.shape[0], V.shape[1]\n",
    "        \n",
    "    r = np.min([M, N, r])\n",
    "    \n",
    "    s_base = s[(r+1):]\n",
    "    \n",
    "    wopt = np.zeros(r)\n",
    "\n",
    "    for i in range(r):\n",
    "        x = s[i]\n",
    "        n = min(M,N) - r\n",
    "        m = max(M,N) - r\n",
    "        d1 = s_base\n",
    "        d2 = np.concatenate((d1, np.zeros(m-n)))\n",
    "    \n",
    "        d12 = np.square(d1)\n",
    "        d22 = np.square(d2)\n",
    "        x2 = x*x\n",
    "        \n",
    "        d1_inv = np.divide(1, (x2 - d12))\n",
    "        d2_inv = np.divide(1, (x2 - d22))\n",
    "        \n",
    "        D1 = (1/n) * np.sum(x*d1_inv)\n",
    "        D2 = (1/m) * np.sum(x*d2_inv)\n",
    "        \n",
    "        D = D1*D2\n",
    "        \n",
    "        d1_inv2 = np.square(d1_inv)\n",
    "        d2_inv2 = np.square(d2_inv)\n",
    "        \n",
    "        D1_d = (1/n) * sum(-2 * x2 * d1_inv2 + d1_inv)\n",
    "        D2_d = (1/m) * sum(-2 * x2 * d2_inv2 + d2_inv)\n",
    "        \n",
    "        Dd = D1*D2_d + D2*D1_d\n",
    "\n",
    "        wopt[i] = -2*D/Dd\n",
    "\n",
    "    Xh = np.matmul(np.matmul(U[:,0:r], np.diag(wopt)), V[0:r,:])\n",
    "    return Xh"
   ]
  },
  {
   "cell_type": "code",
   "execution_count": 14,
   "metadata": {},
   "outputs": [],
   "source": [
    "# Compute baseline accuracy--i.e., accuracy of the full rank feature matrix\n",
    "\n",
    "y_base = net.classifier(outputs)\n",
    "indices_base = y_base.argmax(dim=1)\n",
    "base_acc = ((indices_base - labels) == 0).sum()\n",
    "base_acc = base_acc.cpu().numpy()/100"
   ]
  },
  {
   "cell_type": "code",
   "execution_count": 15,
   "metadata": {},
   "outputs": [],
   "source": [
    "criterion = nn.CrossEntropyLoss()\n",
    "loss = criterion(outputs, labels)"
   ]
  },
  {
   "cell_type": "code",
   "execution_count": 16,
   "metadata": {},
   "outputs": [],
   "source": [
    "loss_base = criterion(y_base, labels)"
   ]
  },
  {
   "cell_type": "code",
   "execution_count": 21,
   "metadata": {},
   "outputs": [],
   "source": [
    "# Compute accuracy change as a function of increase in rank for a direct low rank approximation\n",
    "accs = []\n",
    "losses = []\n",
    "\n",
    "for i in range(32):\n",
    "    out1 = np.matmul(np.matmul(U[:,0:32*(i+1)], np.diag(s[0:32*(i+1)])), V[0:32*(i+1),:])\n",
    "    \n",
    "    out_low = torch.tensor(out1).to(device)\n",
    "    y_low = net.classifier(out_low.float())\n",
    "\n",
    "    indices_low = y_low.argmax(dim=1)\n",
    "    \n",
    "    low_acc = ((indices_low - labels) == 0).sum()\n",
    "    accs.append(low_acc)\n",
    "    \n",
    "    losses.append(criterion(y_low, labels))\n",
    "    \n",
    "    del out1\n",
    "    del out_low\n",
    "    torch.cuda.empty_cache()\n",
    "\n",
    "for i in range(len(accs)):\n",
    "    accs[i] = accs[i].cpu().numpy()/100\n",
    "    losses[i] = losses[i].cpu().detach().numpy()\n",
    "losses = np.array(losses)"
   ]
  },
  {
   "cell_type": "code",
   "execution_count": 22,
   "metadata": {},
   "outputs": [
    {
     "data": {
      "image/png": "[encoded data removed]",
      "text/plain": [
       "<Figure size 720x360 with 1 Axes>"
      ]
     },
     "metadata": {
      "needs_background": "light"
     },
     "output_type": "display_data"
    }
   ],
   "source": [
    "# Plot of accuracy for the direct low rank approximation feature matrix\n",
    "\n",
    "plt.figure(figsize=(10,5))\n",
    "#plt.plot(32*np.arange(1,32),accs[1:32], label='Low rank accuracy')\n",
    "plt.plot(32*np.arange(1,32),losses[1:32]*23, label='Low rank loss')\n",
    "#plt.hlines(base_acc,0,1024,colors='r', label='Actual accuracy')\n",
    "plt.hlines(loss_base*23,0,1024,colors='r', label='Actual loss')\n",
    "plt.ylabel(\"Test accuracy\")\n",
    "plt.xlabel(\"Rank\")\n",
    "plt.legend(loc=\"lower right\")\n",
    "plt.title(\"Direct low rank approximation\")\n",
    "#plt.savefig(\"direct_lr_loss.png\")"
   ]
  },
  {
   "cell_type": "code",
   "execution_count": 23,
   "metadata": {},
   "outputs": [],
   "source": [
    "# Compute accuracy change as a function of increase in rank for OptShrink denoised feature matrix\n",
    "\n",
    "accs = []\n",
    "losses = []\n",
    "\n",
    "for i in range(31):\n",
    "#    out1 = optshrink(U, s, V, 64*(i+1))\n",
    "    out1 = optshrink(U, s, V, 32*(i+1))\n",
    "        \n",
    "    out_low = torch.tensor(out1).to(device)\n",
    "    y_low = net.classifier(out_low.float())\n",
    "\n",
    "    indices_low = y_low.argmax(dim=1)\n",
    "    \n",
    "    low_acc = ((indices_low - labels) == 0).sum()\n",
    "    accs.append(low_acc)\n",
    "    \n",
    "    losses.append(criterion(y_low, labels))\n",
    "\n",
    "    del out1\n",
    "    del out_low\n",
    "    torch.cuda.empty_cache()\n",
    "\n",
    "for i in range(len(accs)):\n",
    "    accs[i] = accs[i].cpu().numpy()/100\n",
    "    losses[i] = losses[i].cpu().detach().numpy()\n",
    "losses = np.array(losses)"
   ]
  },
  {
   "cell_type": "code",
   "execution_count": 24,
   "metadata": {},
   "outputs": [
    {
     "data": {
      "image/png": "[encoded data removed]",
      "text/plain": [
       "<Figure size 720x360 with 1 Axes>"
      ]
     },
     "metadata": {
      "needs_background": "light"
     },
     "output_type": "display_data"
    }
   ],
   "source": [
    "# Plot of accuracy for the direct low rank approximation feature matrix\n",
    "\n",
    "plt.figure(figsize=(10,5))\n",
    "#plt.plot(32*np.arange(1,31),accs[1:31], label='Low rank accuracy')\n",
    "plt.plot(32*np.arange(1,31),losses[1:31]*24, label='Low rank loss')\n",
    "#plt.hlines(base_acc,0,1024,colors='r', label='Actual accuracy')\n",
    "plt.hlines(loss_base*23,0,1024,colors='r', label='Actual loss')\n",
    "plt.ylabel(\"Test accuracy\")\n",
    "plt.xlabel(\"Rank\")\n",
    "plt.legend(loc=\"lower right\")\n",
    "plt.title(\"OptShrink\")\n",
    "#plt.savefig(\"OptShrink_loss.png\")"
   ]
  }
 ],
 "metadata": {
  "@webio": {
   "lastCommId": null,
   "lastKernelId": null
  },
  "kernelspec": {
   "display_name": "Python 3",
   "language": "python",
   "name": "python3"
  },
  "language_info": {
   "codemirror_mode": {
    "name": "ipython",
    "version": 3
   },
   "file_extension": ".py",
   "mimetype": "text/x-python",
   "name": "python",
   "nbconvert_exporter": "python",
   "pygments_lexer": "ipython3",
   "version": "3.6.8"
  }
 },
 "nbformat": 4,
 "nbformat_minor": 2
}
